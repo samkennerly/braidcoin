{
 "cells": [
  {
   "cell_type": "markdown",
   "id": "c630b4a9-1117-46fa-a015-6f2d1ee870d4",
   "metadata": {},
   "source": [
    "# installed\n",
    "\n",
    "Check that all necessary tools are installed."
   ]
  },
  {
   "cell_type": "code",
   "execution_count": 1,
   "id": "00005dcb-56df-4a53-a891-01822568e0a1",
   "metadata": {},
   "outputs": [],
   "source": [
    "%load_ext autoreload\n",
    "%autoreload all"
   ]
  },
  {
   "cell_type": "markdown",
   "id": "81f1b595-4dfb-49f5-afaf-3d1ebcf294fc",
   "metadata": {},
   "source": [
    "## which Python?"
   ]
  },
  {
   "cell_type": "code",
   "execution_count": 2,
   "id": "a1df66a0-3df4-40bf-b4e4-fe653a123ed4",
   "metadata": {},
   "outputs": [
    {
     "name": "stdout",
     "output_type": "stream",
     "text": [
      "Python 3.12.4 (main, Jun  7 2024, 06:33:07) [GCC 14.1.1 20240522]\n",
      "Python files are in /usr\n",
      "Base Python files are in /usr\n"
     ]
    }
   ],
   "source": [
    "import sys\n",
    "\n",
    "print(f\"Python {sys.version}\")\n",
    "print(f\"Python files are in {sys.prefix}\")\n",
    "print(f\"Base Python files are in {sys.base_prefix}\")"
   ]
  },
  {
   "cell_type": "markdown",
   "id": "7756e148-a96f-4611-ae4e-f87369e74884",
   "metadata": {},
   "source": [
    "## which Linux?"
   ]
  },
  {
   "cell_type": "code",
   "execution_count": 3,
   "id": "fbad6442-c010-4a9f-ad07-98cbc5628dd9",
   "metadata": {},
   "outputs": [
    {
     "data": {
      "text/plain": [
       "{'NAME': 'Arch Linux',\n",
       " 'ID': 'arch',\n",
       " 'PRETTY_NAME': 'Arch Linux',\n",
       " 'BUILD_ID': 'rolling',\n",
       " 'VERSION_ID': '20240728.0.249973',\n",
       " 'ANSI_COLOR': '38;2;23;147;209',\n",
       " 'HOME_URL': 'https://archlinux.org/',\n",
       " 'DOCUMENTATION_URL': 'https://wiki.archlinux.org/',\n",
       " 'SUPPORT_URL': 'https://bbs.archlinux.org/',\n",
       " 'BUG_REPORT_URL': 'https://gitlab.archlinux.org/groups/archlinux/-/issues',\n",
       " 'PRIVACY_POLICY_URL': 'https://terms.archlinux.org/docs/privacy-policy/',\n",
       " 'LOGO': 'archlinux-logo'}"
      ]
     },
     "execution_count": 3,
     "metadata": {},
     "output_type": "execute_result"
    }
   ],
   "source": [
    "import platform\n",
    "\n",
    "platform.freedesktop_os_release()"
   ]
  },
  {
   "cell_type": "markdown",
   "id": "2f7e7bec-33a6-431d-81ee-2973fed88860",
   "metadata": {},
   "source": [
    "## which folders are mounted?"
   ]
  },
  {
   "cell_type": "code",
   "execution_count": 4,
   "id": "b7486f6e-8c12-4024-a267-2fe0ae897cc4",
   "metadata": {},
   "outputs": [
    {
     "data": {
      "text/plain": [
       "[PosixPath('/home/braidcoin/.ipython'),\n",
       " PosixPath('/home/braidcoin/.jupyter'),\n",
       " PosixPath('/home/braidcoin/.local'),\n",
       " PosixPath('/home/braidcoin/books'),\n",
       " PosixPath('/home/braidcoin/code'),\n",
       " PosixPath('/home/braidcoin/output')]"
      ]
     },
     "execution_count": 4,
     "metadata": {},
     "output_type": "execute_result"
    }
   ],
   "source": [
    "from pathlib import Path\n",
    "\n",
    "REPO = Path.cwd().resolve().parent\n",
    "sorted(x for x in REPO.iterdir() if x.is_dir())"
   ]
  },
  {
   "cell_type": "code",
   "execution_count": 5,
   "id": "e4cea9d8-60c1-4551-bedc-290e7df25a0e",
   "metadata": {},
   "outputs": [
    {
     "name": "stdout",
     "output_type": "stream",
     "text": [
      "total 32\n",
      "drwx------ 1 braidcoin braidcoin 4096 Sep 12 21:24 \u001b[0m\u001b[01;34m.\u001b[0m/\n",
      "drwxr-xr-x 1 root      root      4096 Sep 12 21:17 \u001b[01;34m..\u001b[0m/\n",
      "-rw-r--r-- 1 braidcoin braidcoin   21 Jul  3 20:22 .bash_logout\n",
      "-rw-r--r-- 1 braidcoin braidcoin   57 Jul  3 20:22 .bash_profile\n",
      "-rw-r--r-- 1 braidcoin braidcoin  172 Jul  3 20:22 .bashrc\n",
      "drwxr-xr-x 4 root      root       128 Sep 11 00:30 \u001b[01;34m.ipython\u001b[0m/\n",
      "drwxr-xr-x 6 root      root       192 Sep 11 00:18 \u001b[01;34m.jupyter\u001b[0m/\n",
      "drwxr-xr-x 3 braidcoin braidcoin 4096 Sep 12 21:24 \u001b[01;34m.local\u001b[0m/\n",
      "drwxr-xr-x 6 braidcoin braidcoin  192 Sep 11 00:31 \u001b[01;34mbooks\u001b[0m/\n",
      "drwxr-xr-x 4 braidcoin braidcoin  128 Sep 10 20:47 \u001b[01;34mcode\u001b[0m/\n",
      "drwxr-xr-x 5 root      root       160 Sep  9 23:17 \u001b[01;34moutput\u001b[0m/\n",
      "-rw-r--r-- 1 root      root        58 Sep  9 23:17 requirements.txt\n"
     ]
    }
   ],
   "source": [
    "%ls -la .."
   ]
  },
  {
   "cell_type": "code",
   "execution_count": 6,
   "id": "caead248-f2b4-45fe-bb4b-6f456924fa2b",
   "metadata": {},
   "outputs": [
    {
     "name": "stdout",
     "output_type": "stream",
     "text": [
      "1001\n"
     ]
    }
   ],
   "source": [
    "!echo $UID"
   ]
  },
  {
   "cell_type": "markdown",
   "id": "36cee2d6-dc23-4728-89c3-29acd458e81a",
   "metadata": {},
   "source": [
    "## environment variables"
   ]
  },
  {
   "cell_type": "code",
   "execution_count": 7,
   "id": "b0de86e9-932c-4e48-bd76-d0caff6ce9ff",
   "metadata": {},
   "outputs": [
    {
     "data": {
      "text/plain": [
       "environ{'PATH': '/usr/local/sbin:/usr/local/bin:/usr/sbin:/usr/bin:/sbin:/bin',\n",
       "        'HOSTNAME': 'braidcoin',\n",
       "        'LANG': 'C.UTF-8',\n",
       "        'PYTHONIOENCODING': 'utf8',\n",
       "        'PYTHONPATH': '/home/braidcoin/code',\n",
       "        'HOME': '/home/braidcoin',\n",
       "        'JPY_SESSION_NAME': '/home/braidcoin/books/installed.ipynb',\n",
       "        'JPY_PARENT_PID': '1',\n",
       "        'TERM': 'xterm-color',\n",
       "        'CLICOLOR': '1',\n",
       "        'FORCE_COLOR': '1',\n",
       "        'CLICOLOR_FORCE': '1',\n",
       "        'PAGER': 'cat',\n",
       "        'GIT_PAGER': 'cat',\n",
       "        'MPLBACKEND': 'module://matplotlib_inline.backend_inline'}"
      ]
     },
     "execution_count": 7,
     "metadata": {},
     "output_type": "execute_result"
    }
   ],
   "source": [
    "import os\n",
    "\n",
    "os.environ"
   ]
  },
  {
   "cell_type": "markdown",
   "id": "ebafb780-4a05-4a41-b421-ba68309f0a0e",
   "metadata": {},
   "source": [
    "## joblib"
   ]
  },
  {
   "cell_type": "code",
   "execution_count": 8,
   "id": "5d177570-20c5-4269-9136-776294c9d419",
   "metadata": {},
   "outputs": [],
   "source": [
    "import joblib"
   ]
  },
  {
   "cell_type": "markdown",
   "id": "38ac3639-0520-42db-b48a-2d415c9e965f",
   "metadata": {},
   "source": [
    "## python-bitcoinlib"
   ]
  },
  {
   "cell_type": "code",
   "execution_count": 9,
   "id": "607357ac-7e16-4a3d-b4ac-da663bb5ceec",
   "metadata": {},
   "outputs": [],
   "source": [
    "import bitcoin"
   ]
  },
  {
   "cell_type": "markdown",
   "id": "1f056c9b-d6c8-4186-b880-3408ff646ad8",
   "metadata": {},
   "source": [
    "## graph_tool configuration"
   ]
  },
  {
   "cell_type": "code",
   "execution_count": 10,
   "id": "5c0297aa-0c66-49dd-abfd-3d3cd2038194",
   "metadata": {},
   "outputs": [
    {
     "name": "stdout",
     "output_type": "stream",
     "text": [
      "version: 2.75 (commit 97483598, Tue Jul 30 19:20:23 2024 +0200)\n",
      "gcc version: 14.1.1\n",
      "compilation flags: -DBOOST_ALLOW_DEPRECATED_HEADERS -DNDEBUG  -fopenmp -O3 -fvisibility=default -fvisibility-inlines-hidden -Wno-deprecated -Wall -Wextra -ftemplate-backtrace-limit=0 -mtune=generic -O3 -pipe -ffunction-sections -fdata-sections -O3 -Wl,--gc-sections\n",
      "install prefix: /usr\n",
      "python dir: /usr/lib/python3.12/site-packages\n",
      "graph filtering: True\n",
      "openmp: True\n",
      "uname: Linux braidcoin 6.4.16-linuxkit #1 SMP PREEMPT_DYNAMIC Tue Oct 10 20:42:40 UTC 2023 x86_64\n"
     ]
    }
   ],
   "source": [
    "import graph_tool.all as gt\n",
    "\n",
    "gt.show_config()"
   ]
  },
  {
   "cell_type": "markdown",
   "id": "dae729fc-7ee7-41c8-b092-08ac47a4ce24",
   "metadata": {},
   "source": [
    "## pandas versions"
   ]
  },
  {
   "cell_type": "code",
   "execution_count": 11,
   "id": "a8ea005d-8b3f-4716-9787-ac4b04bcdcae",
   "metadata": {},
   "outputs": [
    {
     "name": "stdout",
     "output_type": "stream",
     "text": [
      "\n",
      "INSTALLED VERSIONS\n",
      "------------------\n",
      "commit                : d9cdd2ee5a58015ef6f4d15c7226110c9aab8140\n",
      "python                : 3.12.4.final.0\n",
      "python-bits           : 64\n",
      "OS                    : Linux\n",
      "OS-release            : 6.4.16-linuxkit\n",
      "Version               : #1 SMP PREEMPT_DYNAMIC Tue Oct 10 20:42:40 UTC 2023\n",
      "machine               : x86_64\n",
      "processor             : \n",
      "byteorder             : little\n",
      "LC_ALL                : None\n",
      "LANG                  : C.UTF-8\n",
      "LOCALE                : C.UTF-8\n",
      "\n",
      "pandas                : 2.2.2\n",
      "numpy                 : 2.0.1\n",
      "pytz                  : 2024.1\n",
      "dateutil              : 2.9.0\n",
      "setuptools            : None\n",
      "pip                   : 24.2\n",
      "Cython                : None\n",
      "pytest                : None\n",
      "hypothesis            : None\n",
      "sphinx                : None\n",
      "blosc                 : None\n",
      "feather               : None\n",
      "xlsxwriter            : None\n",
      "lxml.etree            : None\n",
      "html5lib              : None\n",
      "pymysql               : None\n",
      "psycopg2              : None\n",
      "jinja2                : 3.1.4\n",
      "IPython               : 8.26.0\n",
      "pandas_datareader     : None\n",
      "adbc-driver-postgresql: None\n",
      "adbc-driver-sqlite    : None\n",
      "bs4                   : 4.12.3\n",
      "bottleneck            : None\n",
      "dataframe-api-compat  : None\n",
      "fastparquet           : None\n",
      "fsspec                : None\n",
      "gcsfs                 : None\n",
      "matplotlib            : 3.8.4\n",
      "numba                 : None\n",
      "numexpr               : None\n",
      "odfpy                 : None\n",
      "openpyxl              : None\n",
      "pandas_gbq            : None\n",
      "pyarrow               : None\n",
      "pyreadstat            : None\n",
      "python-calamine       : None\n",
      "pyxlsb                : None\n",
      "s3fs                  : None\n",
      "scipy                 : 1.14.0\n",
      "sqlalchemy            : None\n",
      "tables                : None\n",
      "tabulate              : None\n",
      "xarray                : None\n",
      "xlrd                  : None\n",
      "zstandard             : 0.22.0\n",
      "tzdata                : None\n",
      "qtpy                  : None\n",
      "pyqt5                 : None\n"
     ]
    }
   ],
   "source": [
    "import pandas as pd\n",
    "\n",
    "pd.show_versions()"
   ]
  },
  {
   "cell_type": "markdown",
   "id": "36485631-4ddd-4ff3-9707-07717fc29255",
   "metadata": {},
   "source": [
    "## braids module"
   ]
  },
  {
   "cell_type": "code",
   "execution_count": 12,
   "id": "c87edb63-7235-4df6-8713-af97665d25cb",
   "metadata": {},
   "outputs": [],
   "source": [
    "from braids import *"
   ]
  },
  {
   "cell_type": "code",
   "execution_count": null,
   "id": "0779d802-e941-45a6-a70e-3c79b2d67932",
   "metadata": {},
   "outputs": [],
   "source": []
  }
 ],
 "metadata": {
  "kernelspec": {
   "display_name": "Python 3 (ipykernel)",
   "language": "python",
   "name": "python3"
  },
  "language_info": {
   "codemirror_mode": {
    "name": "ipython",
    "version": 3
   },
   "file_extension": ".py",
   "mimetype": "text/x-python",
   "name": "python",
   "nbconvert_exporter": "python",
   "pygments_lexer": "ipython3",
   "version": "3.12.4"
  }
 },
 "nbformat": 4,
 "nbformat_minor": 5
}
