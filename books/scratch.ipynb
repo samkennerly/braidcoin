{
 "cells": [
  {
   "cell_type": "markdown",
   "id": "1f951498-5630-4cb5-babd-fd32a8c8fe54",
   "metadata": {},
   "source": [
    "# scratch\n",
    "\n",
    "for quickly testing things"
   ]
  },
  {
   "cell_type": "code",
   "execution_count": 1,
   "id": "e6f7d610-ee44-4fca-9d66-dfba6b3fba3a",
   "metadata": {},
   "outputs": [],
   "source": [
    "%load_ext autoreload\n",
    "%autoreload all"
   ]
  },
  {
   "cell_type": "code",
   "execution_count": 2,
   "id": "e0b1f321-4030-4449-8fa0-0bcb98926b9d",
   "metadata": {},
   "outputs": [],
   "source": [
    "from minernet import *"
   ]
  },
  {
   "cell_type": "code",
   "execution_count": 3,
   "id": "e5da3399-d18d-4e80-ad9f-784587784acb",
   "metadata": {},
   "outputs": [
    {
     "data": {
      "text/plain": [
       "<Minernet with 40 links and 10 nodes>"
      ]
     },
     "execution_count": 3,
     "metadata": {},
     "output_type": "execute_result"
    }
   ],
   "source": [
    "m = Minernet(10)\n",
    "m"
   ]
  },
  {
   "cell_type": "code",
   "execution_count": 4,
   "id": "826d80bf-8343-4c68-a283-87152787904a",
   "metadata": {},
   "outputs": [
    {
     "data": {
      "text/html": [
       "<div>\n",
       "<style scoped>\n",
       "    .dataframe tbody tr th:only-of-type {\n",
       "        vertical-align: middle;\n",
       "    }\n",
       "\n",
       "    .dataframe tbody tr th {\n",
       "        vertical-align: top;\n",
       "    }\n",
       "\n",
       "    .dataframe thead th {\n",
       "        text-align: right;\n",
       "    }\n",
       "</style>\n",
       "<table border=\"1\" class=\"dataframe\">\n",
       "  <thead>\n",
       "    <tr style=\"text-align: right;\">\n",
       "      <th></th>\n",
       "      <th>node</th>\n",
       "      <th>peer</th>\n",
       "      <th>latency</th>\n",
       "    </tr>\n",
       "  </thead>\n",
       "  <tbody>\n",
       "    <tr>\n",
       "      <th>0</th>\n",
       "      <td>0</td>\n",
       "      <td>4</td>\n",
       "      <td>2.483356</td>\n",
       "    </tr>\n",
       "    <tr>\n",
       "      <th>1</th>\n",
       "      <td>0</td>\n",
       "      <td>5</td>\n",
       "      <td>2.522611</td>\n",
       "    </tr>\n",
       "    <tr>\n",
       "      <th>2</th>\n",
       "      <td>0</td>\n",
       "      <td>9</td>\n",
       "      <td>2.661321</td>\n",
       "    </tr>\n",
       "    <tr>\n",
       "      <th>3</th>\n",
       "      <td>0</td>\n",
       "      <td>6</td>\n",
       "      <td>1.973957</td>\n",
       "    </tr>\n",
       "    <tr>\n",
       "      <th>4</th>\n",
       "      <td>1</td>\n",
       "      <td>3</td>\n",
       "      <td>2.406520</td>\n",
       "    </tr>\n",
       "  </tbody>\n",
       "</table>\n",
       "</div>"
      ],
      "text/plain": [
       "   node  peer   latency\n",
       "0     0     4  2.483356\n",
       "1     0     5  2.522611\n",
       "2     0     9  2.661321\n",
       "3     0     6  1.973957\n",
       "4     1     3  2.406520"
      ]
     },
     "execution_count": 4,
     "metadata": {},
     "output_type": "execute_result"
    }
   ],
   "source": [
    "m.links.head()"
   ]
  },
  {
   "cell_type": "code",
   "execution_count": 5,
   "id": "742026b8-c5ee-484c-89bd-2d91f375037b",
   "metadata": {},
   "outputs": [
    {
     "data": {
      "text/plain": [
       "[0, 1, 2, 3, 4, 5, 6, 7, 8, 9]"
      ]
     },
     "execution_count": 5,
     "metadata": {},
     "output_type": "execute_result"
    }
   ],
   "source": [
    "m.nodes"
   ]
  },
  {
   "cell_type": "code",
   "execution_count": 6,
   "id": "b71f8389-7c49-4518-acef-c538a87a32e9",
   "metadata": {},
   "outputs": [
    {
     "data": {
      "text/plain": [
       "[Link(node=0, peer=4, latency=2.4833559291220704),\n",
       " Link(node=0, peer=5, latency=2.522610948714339),\n",
       " Link(node=0, peer=9, latency=2.6613212347750457),\n",
       " Link(node=0, peer=6, latency=1.9739568066808084),\n",
       " Link(node=1, peer=3, latency=2.406519582021774),\n",
       " Link(node=1, peer=5, latency=1.5465951380035168),\n",
       " Link(node=1, peer=6, latency=5.779643104639364),\n",
       " Link(node=1, peer=9, latency=4.610597076087288),\n",
       " Link(node=2, peer=5, latency=3.5460660369716424),\n",
       " Link(node=2, peer=6, latency=0.8519696767910478),\n",
       " Link(node=2, peer=7, latency=3.9682028381817314),\n",
       " Link(node=2, peer=8, latency=3.1505758637415773),\n",
       " Link(node=3, peer=7, latency=2.1728502752207604),\n",
       " Link(node=3, peer=2, latency=2.436399881955889),\n",
       " Link(node=3, peer=6, latency=1.9750606589973507),\n",
       " Link(node=3, peer=5, latency=5.477515425892999),\n",
       " Link(node=4, peer=1, latency=6.5457145270232715),\n",
       " Link(node=4, peer=2, latency=1.4378148380008027),\n",
       " Link(node=4, peer=9, latency=1.76775134291874),\n",
       " Link(node=4, peer=7, latency=8.6836638783086),\n",
       " Link(node=5, peer=0, latency=4.095681852707813),\n",
       " Link(node=5, peer=4, latency=2.990793219432304),\n",
       " Link(node=5, peer=2, latency=1.4087919034243146),\n",
       " Link(node=5, peer=7, latency=3.3074983108652725),\n",
       " Link(node=6, peer=7, latency=5.595418893918988),\n",
       " Link(node=6, peer=2, latency=1.6467438012156652),\n",
       " Link(node=6, peer=0, latency=1.7839921537980485),\n",
       " Link(node=6, peer=4, latency=2.5446325963567493),\n",
       " Link(node=7, peer=1, latency=1.1841387207896683),\n",
       " Link(node=7, peer=6, latency=2.902909400379871),\n",
       " Link(node=7, peer=3, latency=2.812238216736292),\n",
       " Link(node=7, peer=2, latency=2.3403620550578563),\n",
       " Link(node=8, peer=5, latency=2.428028127733022),\n",
       " Link(node=8, peer=3, latency=4.061491421059081),\n",
       " Link(node=8, peer=2, latency=3.2651703573275626),\n",
       " Link(node=8, peer=7, latency=4.484128533877214),\n",
       " Link(node=9, peer=5, latency=1.1915044284986318),\n",
       " Link(node=9, peer=2, latency=1.6368325510779418),\n",
       " Link(node=9, peer=8, latency=2.4674828100754995),\n",
       " Link(node=9, peer=1, latency=1.2615259808622556)]"
      ]
     },
     "execution_count": 6,
     "metadata": {},
     "output_type": "execute_result"
    }
   ],
   "source": [
    "[x for x in m]"
   ]
  },
  {
   "cell_type": "code",
   "execution_count": null,
   "id": "cd559594-5dd4-4c58-879a-64c205274d72",
   "metadata": {},
   "outputs": [],
   "source": []
  },
  {
   "cell_type": "code",
   "execution_count": null,
   "id": "8f515482-ad91-4384-954e-453caa171452",
   "metadata": {},
   "outputs": [],
   "source": []
  },
  {
   "cell_type": "code",
   "execution_count": null,
   "id": "9d71938f-de25-47ef-8971-3fdc4584a96b",
   "metadata": {},
   "outputs": [],
   "source": []
  },
  {
   "cell_type": "code",
   "execution_count": null,
   "id": "57a79ed7-a038-4e6f-9a35-bf87a9b16309",
   "metadata": {},
   "outputs": [],
   "source": []
  }
 ],
 "metadata": {
  "kernelspec": {
   "display_name": "Python 3 (ipykernel)",
   "language": "python",
   "name": "python3"
  },
  "language_info": {
   "codemirror_mode": {
    "name": "ipython",
    "version": 3
   },
   "file_extension": ".py",
   "mimetype": "text/x-python",
   "name": "python",
   "nbconvert_exporter": "python",
   "pygments_lexer": "ipython3",
   "version": "3.12.4"
  }
 },
 "nbformat": 4,
 "nbformat_minor": 5
}
