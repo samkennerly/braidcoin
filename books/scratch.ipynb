{
 "cells": [
  {
   "cell_type": "markdown",
   "id": "1f951498-5630-4cb5-babd-fd32a8c8fe54",
   "metadata": {},
   "source": [
    "# scratch\n",
    "\n",
    "for quickly testing things"
   ]
  },
  {
   "cell_type": "code",
   "execution_count": 1,
   "id": "e6f7d610-ee44-4fca-9d66-dfba6b3fba3a",
   "metadata": {},
   "outputs": [],
   "source": [
    "%load_ext autoreload\n",
    "%autoreload all"
   ]
  },
  {
   "cell_type": "code",
   "execution_count": 2,
   "id": "e0b1f321-4030-4449-8fa0-0bcb98926b9d",
   "metadata": {},
   "outputs": [],
   "source": [
    "from minernet import *"
   ]
  },
  {
   "cell_type": "code",
   "execution_count": 3,
   "id": "cd559594-5dd4-4c58-879a-64c205274d72",
   "metadata": {},
   "outputs": [
    {
     "data": {
      "text/plain": [
       "[(0, 1, 2.8664366226695006),\n",
       " (0, 3, 2.9795683241831488),\n",
       " (1, 7, 2.7760034857469167),\n",
       " (1, 2, 2.548683928097376),\n",
       " (2, 6, 2.6701808826524585),\n",
       " (2, 0, 2.531594644862957),\n",
       " (3, 6, 2.5664585773822792),\n",
       " (3, 4, 2.956900215385473),\n",
       " (4, 1, 2.9462216135624812),\n",
       " (4, 2, 2.5915649301594694),\n",
       " (5, 3, 2.808729561934054),\n",
       " (5, 0, 2.828557348167143),\n",
       " (6, 2, 3.259527777464726),\n",
       " (6, 5, 2.4993791608260487),\n",
       " (7, 4, 2.781665998369159),\n",
       " (7, 2, 3.10159571501846)]"
      ]
     },
     "execution_count": 3,
     "metadata": {},
     "output_type": "execute_result"
    }
   ],
   "source": [
    "links = random_links(8,2)\n",
    "list(links)"
   ]
  },
  {
   "cell_type": "code",
   "execution_count": 4,
   "id": "8f515482-ad91-4384-954e-453caa171452",
   "metadata": {},
   "outputs": [
    {
     "data": {
      "text/plain": [
       "Bead(creator=0, parents=frozenset(), tick=0)"
      ]
     },
     "execution_count": 4,
     "metadata": {},
     "output_type": "execute_result"
    }
   ],
   "source": [
    "bead = Bead()\n",
    "bead"
   ]
  },
  {
   "cell_type": "code",
   "execution_count": 5,
   "id": "0cbe21b4-b5ea-4c30-95fa-aba0778f7140",
   "metadata": {},
   "outputs": [
    {
     "data": {
      "text/plain": [
       "<GraphFrame with 32 links>"
      ]
     },
     "execution_count": 5,
     "metadata": {},
     "output_type": "execute_result"
    }
   ],
   "source": [
    "m = Minernet(n_nodes = 8, n_peers = 4)\n",
    "m"
   ]
  },
  {
   "cell_type": "code",
   "execution_count": 6,
   "id": "7eaf7a76-da90-45a1-8a52-3b23cdf8af7f",
   "metadata": {},
   "outputs": [
    {
     "data": {
      "text/plain": [
       "[0, 1, 2, 3, 4, 5, 6, 7]"
      ]
     },
     "execution_count": 6,
     "metadata": {},
     "output_type": "execute_result"
    }
   ],
   "source": [
    "m.nodes"
   ]
  },
  {
   "cell_type": "code",
   "execution_count": 7,
   "id": "b06652f9-ff04-48f1-9e1c-3b0859c2c14b",
   "metadata": {},
   "outputs": [
    {
     "data": {
      "text/plain": [
       "[{Bead(creator=0, parents=frozenset(), tick=0)},\n",
       " {Bead(creator=0, parents=frozenset(), tick=0)},\n",
       " {Bead(creator=0, parents=frozenset(), tick=0)},\n",
       " {Bead(creator=0, parents=frozenset(), tick=0)},\n",
       " {Bead(creator=0, parents=frozenset(), tick=0)},\n",
       " {Bead(creator=0, parents=frozenset(), tick=0)},\n",
       " {Bead(creator=0, parents=frozenset(), tick=0)},\n",
       " {Bead(creator=0, parents=frozenset(), tick=0)}]"
      ]
     },
     "execution_count": 7,
     "metadata": {},
     "output_type": "execute_result"
    }
   ],
   "source": [
    "m.beads"
   ]
  },
  {
   "cell_type": "code",
   "execution_count": 8,
   "id": "ef138f82-a9be-4f5b-8831-768091140845",
   "metadata": {},
   "outputs": [
    {
     "data": {
      "text/html": [
       "<div>\n",
       "<style scoped>\n",
       "    .dataframe tbody tr th:only-of-type {\n",
       "        vertical-align: middle;\n",
       "    }\n",
       "\n",
       "    .dataframe tbody tr th {\n",
       "        vertical-align: top;\n",
       "    }\n",
       "\n",
       "    .dataframe thead th {\n",
       "        text-align: right;\n",
       "    }\n",
       "</style>\n",
       "<table border=\"1\" class=\"dataframe\">\n",
       "  <thead>\n",
       "    <tr style=\"text-align: right;\">\n",
       "      <th></th>\n",
       "      <th>node</th>\n",
       "      <th>peer</th>\n",
       "      <th>lag</th>\n",
       "    </tr>\n",
       "  </thead>\n",
       "  <tbody>\n",
       "    <tr>\n",
       "      <th>0</th>\n",
       "      <td>0</td>\n",
       "      <td>3</td>\n",
       "      <td>3.069208</td>\n",
       "    </tr>\n",
       "    <tr>\n",
       "      <th>1</th>\n",
       "      <td>0</td>\n",
       "      <td>2</td>\n",
       "      <td>2.610763</td>\n",
       "    </tr>\n",
       "    <tr>\n",
       "      <th>2</th>\n",
       "      <td>0</td>\n",
       "      <td>4</td>\n",
       "      <td>2.595286</td>\n",
       "    </tr>\n",
       "    <tr>\n",
       "      <th>3</th>\n",
       "      <td>0</td>\n",
       "      <td>5</td>\n",
       "      <td>3.097618</td>\n",
       "    </tr>\n",
       "    <tr>\n",
       "      <th>4</th>\n",
       "      <td>1</td>\n",
       "      <td>5</td>\n",
       "      <td>2.546273</td>\n",
       "    </tr>\n",
       "    <tr>\n",
       "      <th>5</th>\n",
       "      <td>1</td>\n",
       "      <td>0</td>\n",
       "      <td>2.272884</td>\n",
       "    </tr>\n",
       "    <tr>\n",
       "      <th>6</th>\n",
       "      <td>1</td>\n",
       "      <td>2</td>\n",
       "      <td>3.245636</td>\n",
       "    </tr>\n",
       "    <tr>\n",
       "      <th>7</th>\n",
       "      <td>1</td>\n",
       "      <td>4</td>\n",
       "      <td>2.793661</td>\n",
       "    </tr>\n",
       "    <tr>\n",
       "      <th>8</th>\n",
       "      <td>2</td>\n",
       "      <td>0</td>\n",
       "      <td>2.904060</td>\n",
       "    </tr>\n",
       "    <tr>\n",
       "      <th>9</th>\n",
       "      <td>2</td>\n",
       "      <td>3</td>\n",
       "      <td>3.042660</td>\n",
       "    </tr>\n",
       "    <tr>\n",
       "      <th>10</th>\n",
       "      <td>2</td>\n",
       "      <td>1</td>\n",
       "      <td>3.093524</td>\n",
       "    </tr>\n",
       "    <tr>\n",
       "      <th>11</th>\n",
       "      <td>2</td>\n",
       "      <td>6</td>\n",
       "      <td>2.489434</td>\n",
       "    </tr>\n",
       "    <tr>\n",
       "      <th>12</th>\n",
       "      <td>3</td>\n",
       "      <td>4</td>\n",
       "      <td>3.087862</td>\n",
       "    </tr>\n",
       "    <tr>\n",
       "      <th>13</th>\n",
       "      <td>3</td>\n",
       "      <td>1</td>\n",
       "      <td>2.378089</td>\n",
       "    </tr>\n",
       "    <tr>\n",
       "      <th>14</th>\n",
       "      <td>3</td>\n",
       "      <td>5</td>\n",
       "      <td>3.008746</td>\n",
       "    </tr>\n",
       "    <tr>\n",
       "      <th>15</th>\n",
       "      <td>3</td>\n",
       "      <td>6</td>\n",
       "      <td>2.565383</td>\n",
       "    </tr>\n",
       "    <tr>\n",
       "      <th>16</th>\n",
       "      <td>4</td>\n",
       "      <td>0</td>\n",
       "      <td>2.597562</td>\n",
       "    </tr>\n",
       "    <tr>\n",
       "      <th>17</th>\n",
       "      <td>4</td>\n",
       "      <td>7</td>\n",
       "      <td>2.752274</td>\n",
       "    </tr>\n",
       "    <tr>\n",
       "      <th>18</th>\n",
       "      <td>4</td>\n",
       "      <td>1</td>\n",
       "      <td>3.013816</td>\n",
       "    </tr>\n",
       "    <tr>\n",
       "      <th>19</th>\n",
       "      <td>4</td>\n",
       "      <td>6</td>\n",
       "      <td>2.338498</td>\n",
       "    </tr>\n",
       "    <tr>\n",
       "      <th>20</th>\n",
       "      <td>5</td>\n",
       "      <td>3</td>\n",
       "      <td>2.626686</td>\n",
       "    </tr>\n",
       "    <tr>\n",
       "      <th>21</th>\n",
       "      <td>5</td>\n",
       "      <td>2</td>\n",
       "      <td>2.763002</td>\n",
       "    </tr>\n",
       "    <tr>\n",
       "      <th>22</th>\n",
       "      <td>5</td>\n",
       "      <td>1</td>\n",
       "      <td>2.395604</td>\n",
       "    </tr>\n",
       "    <tr>\n",
       "      <th>23</th>\n",
       "      <td>5</td>\n",
       "      <td>7</td>\n",
       "      <td>3.166121</td>\n",
       "    </tr>\n",
       "    <tr>\n",
       "      <th>24</th>\n",
       "      <td>6</td>\n",
       "      <td>3</td>\n",
       "      <td>2.255190</td>\n",
       "    </tr>\n",
       "    <tr>\n",
       "      <th>25</th>\n",
       "      <td>6</td>\n",
       "      <td>5</td>\n",
       "      <td>2.713540</td>\n",
       "    </tr>\n",
       "    <tr>\n",
       "      <th>26</th>\n",
       "      <td>6</td>\n",
       "      <td>2</td>\n",
       "      <td>2.873607</td>\n",
       "    </tr>\n",
       "    <tr>\n",
       "      <th>27</th>\n",
       "      <td>6</td>\n",
       "      <td>1</td>\n",
       "      <td>2.873147</td>\n",
       "    </tr>\n",
       "    <tr>\n",
       "      <th>28</th>\n",
       "      <td>7</td>\n",
       "      <td>0</td>\n",
       "      <td>2.759071</td>\n",
       "    </tr>\n",
       "    <tr>\n",
       "      <th>29</th>\n",
       "      <td>7</td>\n",
       "      <td>3</td>\n",
       "      <td>2.542233</td>\n",
       "    </tr>\n",
       "    <tr>\n",
       "      <th>30</th>\n",
       "      <td>7</td>\n",
       "      <td>6</td>\n",
       "      <td>2.697903</td>\n",
       "    </tr>\n",
       "    <tr>\n",
       "      <th>31</th>\n",
       "      <td>7</td>\n",
       "      <td>5</td>\n",
       "      <td>3.269957</td>\n",
       "    </tr>\n",
       "  </tbody>\n",
       "</table>\n",
       "</div>"
      ],
      "text/plain": [
       "    node  peer       lag\n",
       "0      0     3  3.069208\n",
       "1      0     2  2.610763\n",
       "2      0     4  2.595286\n",
       "3      0     5  3.097618\n",
       "4      1     5  2.546273\n",
       "5      1     0  2.272884\n",
       "6      1     2  3.245636\n",
       "7      1     4  2.793661\n",
       "8      2     0  2.904060\n",
       "9      2     3  3.042660\n",
       "10     2     1  3.093524\n",
       "11     2     6  2.489434\n",
       "12     3     4  3.087862\n",
       "13     3     1  2.378089\n",
       "14     3     5  3.008746\n",
       "15     3     6  2.565383\n",
       "16     4     0  2.597562\n",
       "17     4     7  2.752274\n",
       "18     4     1  3.013816\n",
       "19     4     6  2.338498\n",
       "20     5     3  2.626686\n",
       "21     5     2  2.763002\n",
       "22     5     1  2.395604\n",
       "23     5     7  3.166121\n",
       "24     6     3  2.255190\n",
       "25     6     5  2.713540\n",
       "26     6     2  2.873607\n",
       "27     6     1  2.873147\n",
       "28     7     0  2.759071\n",
       "29     7     3  2.542233\n",
       "30     7     6  2.697903\n",
       "31     7     5  3.269957"
      ]
     },
     "execution_count": 8,
     "metadata": {},
     "output_type": "execute_result"
    }
   ],
   "source": [
    "m.links"
   ]
  },
  {
   "cell_type": "code",
   "execution_count": null,
   "id": "8f5d86a4-9051-435f-8f00-6564a5b56f36",
   "metadata": {},
   "outputs": [],
   "source": []
  },
  {
   "cell_type": "code",
   "execution_count": null,
   "id": "940689c1-c655-41f7-b8a4-e4e5b678a95d",
   "metadata": {},
   "outputs": [],
   "source": []
  },
  {
   "cell_type": "code",
   "execution_count": null,
   "id": "d8b8e6ed-f34b-4cf8-861e-d539fac8a0c7",
   "metadata": {},
   "outputs": [],
   "source": []
  },
  {
   "cell_type": "code",
   "execution_count": null,
   "id": "32c9f405-e469-4b12-9e80-ead14596d8a5",
   "metadata": {},
   "outputs": [],
   "source": []
  },
  {
   "cell_type": "code",
   "execution_count": null,
   "id": "f480e710-1c11-48ee-8548-e9082b7fd0ee",
   "metadata": {},
   "outputs": [],
   "source": []
  },
  {
   "cell_type": "code",
   "execution_count": null,
   "id": "bc668116-2d45-4e22-be98-1f150f9cf468",
   "metadata": {},
   "outputs": [],
   "source": []
  },
  {
   "cell_type": "code",
   "execution_count": null,
   "id": "9d71938f-de25-47ef-8971-3fdc4584a96b",
   "metadata": {},
   "outputs": [],
   "source": []
  },
  {
   "cell_type": "code",
   "execution_count": null,
   "id": "57a79ed7-a038-4e6f-9a35-bf87a9b16309",
   "metadata": {},
   "outputs": [],
   "source": []
  }
 ],
 "metadata": {
  "kernelspec": {
   "display_name": "Python 3 (ipykernel)",
   "language": "python",
   "name": "python3"
  },
  "language_info": {
   "codemirror_mode": {
    "name": "ipython",
    "version": 3
   },
   "file_extension": ".py",
   "mimetype": "text/x-python",
   "name": "python",
   "nbconvert_exporter": "python",
   "pygments_lexer": "ipython3",
   "version": "3.12.4"
  }
 },
 "nbformat": 4,
 "nbformat_minor": 5
}
